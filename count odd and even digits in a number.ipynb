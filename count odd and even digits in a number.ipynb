{
  "nbformat": 4,
  "nbformat_minor": 0,
  "metadata": {
    "colab": {
      "name": "Basic Python.ipynb",
      "provenance": [],
      "authorship_tag": "ABX9TyORNqTjnc1vOlLe/QK6CadA",
      "include_colab_link": true
    },
    "kernelspec": {
      "name": "python3",
      "display_name": "Python 3"
    }
  },
  "cells": [
    {
      "cell_type": "markdown",
      "metadata": {
        "id": "view-in-github",
        "colab_type": "text"
      },
      "source": [
        "<a href=\"https://colab.research.google.com/github/katrang/CIS-5100/blob/master/count%20odd%20and%20even%20digits%20in%20a%20number.ipynb\" target=\"_parent\"><img src=\"https://colab.research.google.com/assets/colab-badge.svg\" alt=\"Open In Colab\"/></a>"
      ]
    },
    {
      "cell_type": "code",
      "metadata": {
        "id": "lEg_CYVvf5sT",
        "colab_type": "code",
        "colab": {
          "base_uri": "https://localhost:8080/",
          "height": 51
        },
        "outputId": "4791bacb-cbdf-4004-ef22-eb9959531677"
      },
      "source": [
        "# add digits of number, Assingnment\n",
        "\n",
        "'''\n",
        "Write a program to input an integer N and print the sum of all its even digits and\n",
        "sum of all its odd digits separately. Digits means numbers not the places. That is, \n",
        "if the given integer is \"13245\", even digits are 2 & 4 and odd digits are 1, 3 & 5. \n",
        "Input format : Integer N Output format : Sum_of_Even_Digits Sum_of_Odd_Digits \n",
        "(Print first even sum and then odd sum separated by space) Sample Input : 1234 Sample Output : 6 4\n",
        "'''\n",
        "\n",
        "def iseven(no):\n",
        "    if(no % 2 == 0):\n",
        "        return True\n",
        "    else:\n",
        "        return False\n",
        "\n",
        "n = int(input())\n",
        "even_sum = 0\n",
        "odd_sum = 0\n",
        "while(n > 0):\n",
        "    rem = int(n % 10)\n",
        "    if(iseven(rem)):\n",
        "        even_sum = even_sum + int(rem)\n",
        "    else:\n",
        "        odd_sum = odd_sum + int(rem)\n",
        "    n = n/10\n",
        "print(even_sum,\" \",odd_sum)"
      ],
      "execution_count": 1,
      "outputs": [
        {
          "output_type": "stream",
          "text": [
            "4437691\n",
            "14   20\n"
          ],
          "name": "stdout"
        }
      ]
    },
    {
      "cell_type": "code",
      "metadata": {
        "id": "rmgPCD81gNe7",
        "colab_type": "code",
        "colab": {
          "base_uri": "https://localhost:8080/",
          "height": 51
        },
        "outputId": "9344f091-d0fd-4b55-af75-d73b4b3bdfc1"
      },
      "source": [
        "#add the digits of a number\n",
        "#the even numbers and odd numbers are added seperately\n",
        "\n",
        "n = int(input())\n",
        "even_sum = 0\n",
        "odd_sum = 0\n",
        "while(n > 0):\n",
        "    rem = int(n % 10)\n",
        "    if(rem%2==0):\n",
        "        even_sum = even_sum + int(rem)\n",
        "    else:\n",
        "        odd_sum = odd_sum + int(rem)\n",
        "    n = n/10\n",
        "print(even_sum,\" \",odd_sum)"
      ],
      "execution_count": 2,
      "outputs": [
        {
          "output_type": "stream",
          "text": [
            "4437691\n",
            "14   20\n"
          ],
          "name": "stdout"
        }
      ]
    },
    {
      "cell_type": "code",
      "metadata": {
        "id": "7WNTzwIKgYcF",
        "colab_type": "code",
        "colab": {}
      },
      "source": [
        ""
      ],
      "execution_count": null,
      "outputs": []
    }
  ]
}